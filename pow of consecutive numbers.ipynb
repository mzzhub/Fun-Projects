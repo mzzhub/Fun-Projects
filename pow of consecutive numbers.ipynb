{
 "cells": [
  {
   "cell_type": "code",
   "execution_count": 1,
   "id": "68c38f90-94cd-4df2-8234-7ae07ff67cbb",
   "metadata": {},
   "outputs": [],
   "source": [
    "def powOfConsecutiveNumbers(n):\n",
    "    \"\"\"\n",
    "    function will take the maximum limit (say n) and display the pow(1,2,3), pow(2,3,4), ..., pow(n-2,n-1,n)\n",
    "    \"\"\"\n",
    "    i = 1\n",
    "    for i in range(n-1):\n",
    "        p = pow(i,i+1,i+2)\n",
    "        print(\"pow of\",i,i+1,i+2)\n",
    "        i = i+1\n",
    "        print(p)"
   ]
  },
  {
   "cell_type": "code",
   "execution_count": 6,
   "id": "6817e395-40c0-4509-a218-5b7b43b8d0a1",
   "metadata": {},
   "outputs": [
    {
     "name": "stdout",
     "output_type": "stream",
     "text": [
      "pow of 0 1 2\n",
      "0\n"
     ]
    }
   ],
   "source": [
    "powOfConsecutiveNumbers(2)"
   ]
  },
  {
   "cell_type": "code",
   "execution_count": 7,
   "id": "189ad43f-49e7-4d14-8a23-622be4c5e66d",
   "metadata": {},
   "outputs": [
    {
     "data": {
      "text/plain": [
       "\u001b[1;31mSignature:\u001b[0m \u001b[0mpow\u001b[0m\u001b[1;33m(\u001b[0m\u001b[0mbase\u001b[0m\u001b[1;33m,\u001b[0m \u001b[0mexp\u001b[0m\u001b[1;33m,\u001b[0m \u001b[0mmod\u001b[0m\u001b[1;33m=\u001b[0m\u001b[1;32mNone\u001b[0m\u001b[1;33m)\u001b[0m\u001b[1;33m\u001b[0m\u001b[1;33m\u001b[0m\u001b[0m\n",
       "\u001b[1;31mDocstring:\u001b[0m\n",
       "Equivalent to base**exp with 2 arguments or base**exp % mod with 3 arguments\n",
       "\n",
       "Some types, such as ints, are able to use a more efficient algorithm when\n",
       "invoked using the three argument form.\n",
       "\u001b[1;31mType:\u001b[0m      builtin_function_or_method"
      ]
     },
     "metadata": {},
     "output_type": "display_data"
    }
   ],
   "source": [
    "pow?"
   ]
  },
  {
   "cell_type": "code",
   "execution_count": null,
   "id": "53f036b9-8339-4ac5-9851-19ad797db3c9",
   "metadata": {},
   "outputs": [],
   "source": []
  }
 ],
 "metadata": {
  "kernelspec": {
   "display_name": "Python 3 (ipykernel)",
   "language": "python",
   "name": "python3"
  },
  "language_info": {
   "codemirror_mode": {
    "name": "ipython",
    "version": 3
   },
   "file_extension": ".py",
   "mimetype": "text/x-python",
   "name": "python",
   "nbconvert_exporter": "python",
   "pygments_lexer": "ipython3",
   "version": "3.11.7"
  }
 },
 "nbformat": 4,
 "nbformat_minor": 5
}
