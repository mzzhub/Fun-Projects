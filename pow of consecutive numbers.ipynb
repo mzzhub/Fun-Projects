{
 "cells": [
  {
   "cell_type": "code",
   "execution_count": 11,
   "id": "68c38f90-94cd-4df2-8234-7ae07ff67cbb",
   "metadata": {},
   "outputs": [],
   "source": [
    "def powOfConsecutiveNumbers(n):\n",
    "    \"\"\"\n",
    "    function will take the maximum limit (say n) and display the pow(1,2,3), pow(2,3,4), ..., pow(n-2,n-1,n)\n",
    "    \"\"\"\n",
    "    i = 1\n",
    "    for i in range(n-1):\n",
    "        p = pow(i,i+1,i+2)\n",
    "        print(\"pow of\",i,i+1,i+2)\n",
    "        i = i+1\n",
    "        print(p)"
   ]
  },
  {
   "cell_type": "code",
   "execution_count": 12,
   "id": "a883d099-c54c-4095-ab1c-ee90dd9aa40b",
   "metadata": {},
   "outputs": [
    {
     "name": "stdout",
     "output_type": "stream",
     "text": [
      "pow of 0 1 2\n",
      "0\n",
      "pow of 1 2 3\n",
      "1\n",
      "pow of 2 3 4\n",
      "0\n",
      "pow of 3 4 5\n",
      "1\n",
      "pow of 4 5 6\n",
      "4\n",
      "pow of 5 6 7\n",
      "1\n",
      "pow of 6 7 8\n",
      "0\n",
      "pow of 7 8 9\n",
      "4\n",
      "pow of 8 9 10\n",
      "8\n"
     ]
    }
   ],
   "source": [
    "powOfConsecutiveNumbers(10)"
   ]
  }
 ],
 "metadata": {
  "kernelspec": {
   "display_name": "Python 3 (ipykernel)",
   "language": "python",
   "name": "python3"
  },
  "language_info": {
   "codemirror_mode": {
    "name": "ipython",
    "version": 3
   },
   "file_extension": ".py",
   "mimetype": "text/x-python",
   "name": "python",
   "nbconvert_exporter": "python",
   "pygments_lexer": "ipython3",
   "version": "3.11.7"
  }
 },
 "nbformat": 4,
 "nbformat_minor": 5
}
