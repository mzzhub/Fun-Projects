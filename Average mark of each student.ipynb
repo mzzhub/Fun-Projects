{
 "cells": [
  {
   "cell_type": "code",
   "execution_count": 22,
   "id": "68c38f90-94cd-4df2-8234-7ae07ff67cbb",
   "metadata": {},
   "outputs": [],
   "source": [
    "def avgMarksOfStudents():\n",
    "    \"\"\"\n",
    "    function will take student id and then the marks scored by that student seperated by comas.\n",
    "    it will continue to take the id and marks until we input \"no\" to quit.\n",
    "    if the input is over, then it will display a dictionary, \n",
    "    that will contain the student id and the average of the marks entered\n",
    "    \"\"\"\n",
    "    data={}\n",
    "    while True:\n",
    "        id=input(\"Enter student ID : \")\n",
    "        if id in data:\n",
    "            print(\"Already inserted\")\n",
    "            continue\n",
    "        data[id]=[]\n",
    "        marks=input(\"Enter his/her marks, seperated by comas: \")\n",
    "        data[id]=marks.split(\",\")\n",
    "        more=input(\"Press enter key to add more students. Enter 'no' to stop the process: \")\n",
    "        if more=='no':\n",
    "            break\n",
    "    avg = {}\n",
    "    \n",
    "    for x in data:\n",
    "        avg[x]=data[x]\n",
    "        L=data[x]\n",
    "        sum=0\n",
    "        for marks in L:\n",
    "            sum=int(marks)+sum\n",
    "        average=sum/len(data[x])\n",
    "        avg[x]=average\n",
    "    print(\"The average marks of each student is: \\n\",avg)"
   ]
  },
  {
   "cell_type": "code",
   "execution_count": 23,
   "id": "a883d099-c54c-4095-ab1c-ee90dd9aa40b",
   "metadata": {},
   "outputs": [
    {
     "name": "stdin",
     "output_type": "stream",
     "text": [
      "Enter student ID :  Jonas\n",
      "Enter his/her marks, seperated by comas:  223,2,312,3,23,2,312,3,2\n",
      "Press enter key to add more students. Enter 'no' to stop the process:  \n",
      "Enter student ID :  Bartosh\n",
      "Enter his/her marks, seperated by comas:  45,6,45,64,5,34,534,55,34,2\n",
      "Press enter key to add more students. Enter 'no' to stop the process:  \n",
      "Enter student ID :  Jonas\n"
     ]
    },
    {
     "name": "stdout",
     "output_type": "stream",
     "text": [
      "Already inserted\n"
     ]
    },
    {
     "name": "stdin",
     "output_type": "stream",
     "text": [
      "Enter student ID :  Martha\n",
      "Enter his/her marks, seperated by comas:  23,2,34,5,4,33,56,56,7,6,7\n",
      "Press enter key to add more students. Enter 'no' to stop the process:  no\n"
     ]
    },
    {
     "name": "stdout",
     "output_type": "stream",
     "text": [
      "The average marks of each student is: \n",
      " {'Jonas': 98.0, 'Bartosh': 82.4, 'Martha': 21.181818181818183}\n"
     ]
    }
   ],
   "source": [
    "avgMarksOfStudents()"
   ]
  }
 ],
 "metadata": {
  "kernelspec": {
   "display_name": "Python 3 (ipykernel)",
   "language": "python",
   "name": "python3"
  },
  "language_info": {
   "codemirror_mode": {
    "name": "ipython",
    "version": 3
   },
   "file_extension": ".py",
   "mimetype": "text/x-python",
   "name": "python",
   "nbconvert_exporter": "python",
   "pygments_lexer": "ipython3",
   "version": "3.11.7"
  }
 },
 "nbformat": 4,
 "nbformat_minor": 5
}
