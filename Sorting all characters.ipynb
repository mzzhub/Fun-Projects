{
 "cells": [
  {
   "cell_type": "code",
   "execution_count": 13,
   "id": "68c38f90-94cd-4df2-8234-7ae07ff67cbb",
   "metadata": {},
   "outputs": [],
   "source": [
    "def sortAllChar():\n",
    "    \"\"\"\n",
    "    Input all possible characters in your keyboard without any spaces.\n",
    "    Just type all the characters contineously,\n",
    "    Hit enter if finished\n",
    "    The function will print each element you inputed by sorting according to its value \n",
    "    \"\"\"\n",
    "    n=input(\"Enter all symbols: \")\n",
    "    l1=list(n)\n",
    "    print(\"\\nThe list of the elements are: \\n\",l1)\n",
    "    print(\"\\nThe no.of elements: \",len(l1))\n",
    "    \n",
    "    for j in range (len(l1)):\n",
    "        m=l1[j]\n",
    "        idx=j\n",
    "        c=j\n",
    "        for i in range(j,len(l1)):\n",
    "            if l1[i]<m:\n",
    "                m=l1[i]\n",
    "                idx=c\n",
    "            c+=1\n",
    "        temp=l1[j]\n",
    "        l1[j]=l1[idx]\n",
    "        l1[idx]=temp\n",
    "    print(\"\\nThe sorted list: \\n\",l1)"
   ]
  },
  {
   "cell_type": "code",
   "execution_count": 14,
   "id": "a883d099-c54c-4095-ab1c-ee90dd9aa40b",
   "metadata": {},
   "outputs": [
    {
     "name": "stdin",
     "output_type": "stream",
     "text": [
      "Enter all symbols:  `1234567890-=qwertyuiop[]\\asdfghjkl;'zxcvbnm,./~!@#$%^&*()_+QWERTYUIOP{}|ASDFGHJKL:\"ZXCVBNM<>?\n"
     ]
    },
    {
     "name": "stdout",
     "output_type": "stream",
     "text": [
      "\n",
      "The list of the elements are: \n",
      " ['`', '1', '2', '3', '4', '5', '6', '7', '8', '9', '0', '-', '=', 'q', 'w', 'e', 'r', 't', 'y', 'u', 'i', 'o', 'p', '[', ']', '\\\\', 'a', 's', 'd', 'f', 'g', 'h', 'j', 'k', 'l', ';', \"'\", 'z', 'x', 'c', 'v', 'b', 'n', 'm', ',', '.', '/', '~', '!', '@', '#', '$', '%', '^', '&', '*', '(', ')', '_', '+', 'Q', 'W', 'E', 'R', 'T', 'Y', 'U', 'I', 'O', 'P', '{', '}', '|', 'A', 'S', 'D', 'F', 'G', 'H', 'J', 'K', 'L', ':', '\"', 'Z', 'X', 'C', 'V', 'B', 'N', 'M', '<', '>', '?']\n",
      "\n",
      "The no.of elements:  94\n",
      "\n",
      "The sorted list: \n",
      " ['!', '\"', '#', '$', '%', '&', \"'\", '(', ')', '*', '+', ',', '-', '.', '/', '0', '1', '2', '3', '4', '5', '6', '7', '8', '9', ':', ';', '<', '=', '>', '?', '@', 'A', 'B', 'C', 'D', 'E', 'F', 'G', 'H', 'I', 'J', 'K', 'L', 'M', 'N', 'O', 'P', 'Q', 'R', 'S', 'T', 'U', 'V', 'W', 'X', 'Y', 'Z', '[', '\\\\', ']', '^', '_', '`', 'a', 'b', 'c', 'd', 'e', 'f', 'g', 'h', 'i', 'j', 'k', 'l', 'm', 'n', 'o', 'p', 'q', 'r', 's', 't', 'u', 'v', 'w', 'x', 'y', 'z', '{', '|', '}', '~']\n"
     ]
    }
   ],
   "source": [
    "sortAllChar()"
   ]
  }
 ],
 "metadata": {
  "kernelspec": {
   "display_name": "Python 3 (ipykernel)",
   "language": "python",
   "name": "python3"
  },
  "language_info": {
   "codemirror_mode": {
    "name": "ipython",
    "version": 3
   },
   "file_extension": ".py",
   "mimetype": "text/x-python",
   "name": "python",
   "nbconvert_exporter": "python",
   "pygments_lexer": "ipython3",
   "version": "3.11.7"
  }
 },
 "nbformat": 4,
 "nbformat_minor": 5
}
